{
 "cells": [
  {
   "cell_type": "markdown",
   "id": "d537e6b8",
   "metadata": {
    "heading_collapsed": true
   },
   "source": [
    "# Import and data upload"
   ]
  },
  {
   "cell_type": "code",
   "execution_count": 1,
   "id": "ec74288c",
   "metadata": {
    "hidden": true
   },
   "outputs": [],
   "source": [
    "import pandas as pd"
   ]
  },
  {
   "cell_type": "code",
   "execution_count": 2,
   "id": "4acc79c4",
   "metadata": {
    "hidden": true
   },
   "outputs": [],
   "source": [
    "akas = 'Data/title.akas.tsv.gz'\n",
    "\n",
    "akas_df = pd.read_csv(akas,sep='\\t', low_memory=False)"
   ]
  },
  {
   "cell_type": "code",
   "execution_count": 3,
   "id": "4a241a38",
   "metadata": {
    "hidden": true
   },
   "outputs": [],
   "source": [
    "basics = 'Data/title.basics.tsv.gz'\n",
    "\n",
    "basics_df = pd.read_csv(basics, sep='\\t', low_memory=False)"
   ]
  },
  {
   "cell_type": "code",
   "execution_count": 4,
   "id": "47f69fc1",
   "metadata": {
    "hidden": true
   },
   "outputs": [],
   "source": [
    "ratings = 'Data/title.ratings.tsv.gz'\n",
    "\n",
    "ratings_df = pd.read_csv(ratings,sep='\\t', low_memory=False)"
   ]
  },
  {
   "cell_type": "markdown",
   "id": "247513f1",
   "metadata": {
    "heading_collapsed": true
   },
   "source": [
    "# Akas df cleanup"
   ]
  },
  {
   "cell_type": "markdown",
   "id": "10712f63",
   "metadata": {
    "hidden": true
   },
   "source": [
    "## keep only US movies"
   ]
  },
  {
   "cell_type": "code",
   "execution_count": 5,
   "id": "952f95ef",
   "metadata": {
    "hidden": true
   },
   "outputs": [],
   "source": [
    "akas_df = akas_df[akas_df['region'] == 'US']"
   ]
  },
  {
   "cell_type": "markdown",
   "id": "6fbad047",
   "metadata": {
    "hidden": true
   },
   "source": [
    "## Replace \"\\N\" with np.nan"
   ]
  },
  {
   "cell_type": "code",
   "execution_count": 6,
   "id": "f10837e5",
   "metadata": {
    "hidden": true
   },
   "outputs": [],
   "source": [
    "import numpy as np\n",
    "\n",
    "akas_df.replace({'\\\\N':np.nan}, inplace=True)"
   ]
  },
  {
   "cell_type": "markdown",
   "id": "23c313f7",
   "metadata": {},
   "source": [
    "# Basics df cleanup"
   ]
  },
  {
   "cell_type": "markdown",
   "id": "10055d78",
   "metadata": {},
   "source": [
    "## Replace \"\\N\" with np.nan"
   ]
  },
  {
   "cell_type": "code",
   "execution_count": 7,
   "id": "2589d5a7",
   "metadata": {},
   "outputs": [],
   "source": [
    "basics_df.replace({'\\\\N':np.nan}, inplace=True)"
   ]
  },
  {
   "cell_type": "markdown",
   "id": "8ae3b6a9",
   "metadata": {},
   "source": [
    "## Eliminate movies that are null for runtimeMinutes"
   ]
  },
  {
   "cell_type": "code",
   "execution_count": 8,
   "id": "bec73e24",
   "metadata": {},
   "outputs": [],
   "source": [
    "basics_df.dropna(subset=['runtimeMinutes'], inplace=True)"
   ]
  },
  {
   "cell_type": "markdown",
   "id": "4ec63a2f",
   "metadata": {},
   "source": [
    "## Eliminate movies that are null for genre"
   ]
  },
  {
   "cell_type": "code",
   "execution_count": 9,
   "id": "066c6972",
   "metadata": {},
   "outputs": [],
   "source": [
    "basics_df.dropna(subset=['genres'], inplace=True)"
   ]
  },
  {
   "cell_type": "markdown",
   "id": "c28e7496",
   "metadata": {},
   "source": [
    "## keep only titleType==Movie"
   ]
  },
  {
   "cell_type": "code",
   "execution_count": 10,
   "id": "9831c8af",
   "metadata": {},
   "outputs": [],
   "source": [
    "basics_df = basics_df[basics_df['titleType'] == 'movie']"
   ]
  },
  {
   "cell_type": "markdown",
   "id": "5283c536",
   "metadata": {},
   "source": [
    "## keep startYear 2000-2022"
   ]
  },
  {
   "cell_type": "code",
   "execution_count": 11,
   "id": "dbeeef43",
   "metadata": {},
   "outputs": [],
   "source": [
    "#basics_df['startYear'] = pd.to_numeric(basics_df['startYear'], errors='coerce').astype(float)\n",
    "\n",
    "basics_df['startYear'] = basics_df['startYear'].astype(float)\n",
    "\n",
    "basics_df = basics_df[(basics_df['startYear'] >= 2000) & (basics_df['startYear'] <= 2022)]"
   ]
  },
  {
   "cell_type": "markdown",
   "id": "79cdecbc",
   "metadata": {},
   "source": [
    "## Eliminate movies that include \"Documentary\" in genre"
   ]
  },
  {
   "cell_type": "code",
   "execution_count": 12,
   "id": "04f96283",
   "metadata": {},
   "outputs": [],
   "source": [
    "basics_df = basics_df[~basics_df['genres'].str.contains('documentary')]"
   ]
  },
  {
   "cell_type": "markdown",
   "id": "f7f9c04a",
   "metadata": {},
   "source": [
    "## Keep only US movies"
   ]
  },
  {
   "cell_type": "code",
   "execution_count": 13,
   "id": "8a81158c",
   "metadata": {},
   "outputs": [],
   "source": [
    "keepers_df = basics_df['tconst'].isin(akas_df['titleId'])"
   ]
  },
  {
   "cell_type": "code",
   "execution_count": 14,
   "id": "a2aa0300",
   "metadata": {},
   "outputs": [],
   "source": [
    "basics_df = basics_df[keepers_df]"
   ]
  },
  {
   "cell_type": "markdown",
   "id": "842f8b89",
   "metadata": {
    "heading_collapsed": true
   },
   "source": [
    "# Ratings df cleanup"
   ]
  },
  {
   "cell_type": "markdown",
   "id": "9f088ab3",
   "metadata": {
    "hidden": true
   },
   "source": [
    "## Replace \"\\N\" with np.nan (if any)"
   ]
  },
  {
   "cell_type": "code",
   "execution_count": 15,
   "id": "f27b4f88",
   "metadata": {
    "hidden": true
   },
   "outputs": [],
   "source": [
    "ratings_df.replace({'\\\\N':np.nan}, inplace=True)"
   ]
  },
  {
   "cell_type": "markdown",
   "id": "af019b40",
   "metadata": {
    "hidden": true
   },
   "source": [
    "## Keep only US movies"
   ]
  },
  {
   "cell_type": "code",
   "execution_count": 16,
   "id": "50085f27",
   "metadata": {
    "hidden": true
   },
   "outputs": [],
   "source": [
    "keepers_df = ratings_df['tconst'].isin(akas_df['titleId'])"
   ]
  },
  {
   "cell_type": "code",
   "execution_count": 17,
   "id": "55f8e6da",
   "metadata": {
    "hidden": true
   },
   "outputs": [],
   "source": [
    "ratings_df = ratings_df[keepers_df]"
   ]
  },
  {
   "cell_type": "markdown",
   "id": "30dcda03",
   "metadata": {
    "heading_collapsed": true
   },
   "source": [
    "# Deliverable"
   ]
  },
  {
   "cell_type": "code",
   "execution_count": 18,
   "id": "29ca9295",
   "metadata": {
    "hidden": true
   },
   "outputs": [
    {
     "name": "stdout",
     "output_type": "stream",
     "text": [
      "<class 'pandas.core.frame.DataFrame'>\n",
      "Int64Index: 1425956 entries, 5 to 35423595\n",
      "Data columns (total 8 columns):\n",
      " #   Column           Non-Null Count    Dtype \n",
      "---  ------           --------------    ----- \n",
      " 0   titleId          1425956 non-null  object\n",
      " 1   ordering         1425956 non-null  int64 \n",
      " 2   title            1425956 non-null  object\n",
      " 3   region           1425956 non-null  object\n",
      " 4   language         3871 non-null     object\n",
      " 5   types            976603 non-null   object\n",
      " 6   attributes       46299 non-null    object\n",
      " 7   isOriginalTitle  1424611 non-null  object\n",
      "dtypes: int64(1), object(7)\n",
      "memory usage: 97.9+ MB\n"
     ]
    }
   ],
   "source": [
    "akas_df.info()"
   ]
  },
  {
   "cell_type": "code",
   "execution_count": 19,
   "id": "6481662a",
   "metadata": {
    "hidden": true
   },
   "outputs": [
    {
     "name": "stdout",
     "output_type": "stream",
     "text": [
      "<class 'pandas.core.frame.DataFrame'>\n",
      "Int64Index: 120058 entries, 34803 to 9730848\n",
      "Data columns (total 9 columns):\n",
      " #   Column          Non-Null Count   Dtype  \n",
      "---  ------          --------------   -----  \n",
      " 0   tconst          120058 non-null  object \n",
      " 1   titleType       120058 non-null  object \n",
      " 2   primaryTitle    120058 non-null  object \n",
      " 3   originalTitle   120058 non-null  object \n",
      " 4   isAdult         120058 non-null  object \n",
      " 5   startYear       120058 non-null  float64\n",
      " 6   endYear         0 non-null       object \n",
      " 7   runtimeMinutes  120058 non-null  object \n",
      " 8   genres          120058 non-null  object \n",
      "dtypes: float64(1), object(8)\n",
      "memory usage: 9.2+ MB\n"
     ]
    }
   ],
   "source": [
    "basics_df.info()"
   ]
  },
  {
   "cell_type": "code",
   "execution_count": 20,
   "id": "2f6f9114",
   "metadata": {
    "hidden": true
   },
   "outputs": [
    {
     "name": "stdout",
     "output_type": "stream",
     "text": [
      "<class 'pandas.core.frame.DataFrame'>\n",
      "Int64Index: 493732 entries, 0 to 1294996\n",
      "Data columns (total 3 columns):\n",
      " #   Column         Non-Null Count   Dtype  \n",
      "---  ------         --------------   -----  \n",
      " 0   tconst         493732 non-null  object \n",
      " 1   averageRating  493732 non-null  float64\n",
      " 2   numVotes       493732 non-null  int64  \n",
      "dtypes: float64(1), int64(1), object(1)\n",
      "memory usage: 15.1+ MB\n"
     ]
    }
   ],
   "source": [
    "ratings_df.info()"
   ]
  },
  {
   "cell_type": "markdown",
   "id": "588602ee",
   "metadata": {},
   "source": [
    "# Saving Compressed .csv.gz Files"
   ]
  },
  {
   "cell_type": "code",
   "execution_count": 21,
   "id": "ac977c2f",
   "metadata": {},
   "outputs": [],
   "source": [
    "basics_df.to_csv(\"Data/title_basics.csv.gz\",compression='gzip',index=False)"
   ]
  },
  {
   "cell_type": "code",
   "execution_count": 22,
   "id": "05855231",
   "metadata": {},
   "outputs": [],
   "source": [
    "akas_df.to_csv(\"Data/title_akas.csv.gz\",compression='gzip',index=False)"
   ]
  },
  {
   "cell_type": "code",
   "execution_count": 23,
   "id": "b6dcf672",
   "metadata": {},
   "outputs": [],
   "source": [
    "ratings_df.to_csv(\"Data/title_ratings.csv.gz\",compression='gzip',index=False)"
   ]
  }
 ],
 "metadata": {
  "kernelspec": {
   "display_name": "Python (dojo-env)",
   "language": "python",
   "name": "dojo-env"
  },
  "language_info": {
   "codemirror_mode": {
    "name": "ipython",
    "version": 3
   },
   "file_extension": ".py",
   "mimetype": "text/x-python",
   "name": "python",
   "nbconvert_exporter": "python",
   "pygments_lexer": "ipython3",
   "version": "3.9.15"
  },
  "toc": {
   "base_numbering": 1,
   "nav_menu": {},
   "number_sections": true,
   "sideBar": true,
   "skip_h1_title": false,
   "title_cell": "Table of Contents",
   "title_sidebar": "Contents",
   "toc_cell": false,
   "toc_position": {},
   "toc_section_display": true,
   "toc_window_display": false
  }
 },
 "nbformat": 4,
 "nbformat_minor": 5
}
