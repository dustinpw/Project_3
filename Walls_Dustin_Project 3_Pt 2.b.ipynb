{
 "cells": [
  {
   "cell_type": "code",
   "execution_count": 1,
   "id": "ac161a29",
   "metadata": {},
   "outputs": [],
   "source": [
    "import pandas as pd\n",
    "\n",
    "df1 = pd.read_csv('Data/final_tmdb_data_2000.csv.gz')\n",
    "df2 = pd.read_csv('Data/final_tmdb_data_2001.csv.gz')"
   ]
  },
  {
   "cell_type": "code",
   "execution_count": 2,
   "id": "a1982d22",
   "metadata": {},
   "outputs": [],
   "source": [
    "df = pd.concat([df1, df2])"
   ]
  },
  {
   "cell_type": "code",
   "execution_count": 3,
   "id": "c07326b6",
   "metadata": {},
   "outputs": [
    {
     "name": "stdout",
     "output_type": "stream",
     "text": [
      "<class 'pandas.core.frame.DataFrame'>\n",
      "Int64Index: 2568 entries, 0 to 1330\n",
      "Data columns (total 26 columns):\n",
      " #   Column                 Non-Null Count  Dtype  \n",
      "---  ------                 --------------  -----  \n",
      " 0   imdb_id                2568 non-null   object \n",
      " 1   adult                  2566 non-null   float64\n",
      " 2   backdrop_path          1397 non-null   object \n",
      " 3   belongs_to_collection  205 non-null    object \n",
      " 4   budget                 2566 non-null   float64\n",
      " 5   genres                 2566 non-null   object \n",
      " 6   homepage               172 non-null    object \n",
      " 7   id                     2566 non-null   float64\n",
      " 8   original_language      2566 non-null   object \n",
      " 9   original_title         2566 non-null   object \n",
      " 10  overview               2516 non-null   object \n",
      " 11  popularity             2566 non-null   float64\n",
      " 12  poster_path            2308 non-null   object \n",
      " 13  production_companies   2566 non-null   object \n",
      " 14  production_countries   2566 non-null   object \n",
      " 15  release_date           2547 non-null   object \n",
      " 16  revenue                2566 non-null   float64\n",
      " 17  runtime                2566 non-null   float64\n",
      " 18  spoken_languages       2566 non-null   object \n",
      " 19  status                 2566 non-null   object \n",
      " 20  tagline                1101 non-null   object \n",
      " 21  title                  2566 non-null   object \n",
      " 22  video                  2566 non-null   float64\n",
      " 23  vote_average           2566 non-null   float64\n",
      " 24  vote_count             2566 non-null   float64\n",
      " 25  certification          816 non-null    object \n",
      "dtypes: float64(9), object(17)\n",
      "memory usage: 541.7+ KB\n"
     ]
    }
   ],
   "source": [
    "df.info()"
   ]
  },
  {
   "cell_type": "markdown",
   "id": "51eefb90",
   "metadata": {},
   "source": [
    "## How many movies had at least some valid financial information (values > 0 for budget OR revenue)?"
   ]
  },
  {
   "cell_type": "code",
   "execution_count": 4,
   "id": "f8c6d09c",
   "metadata": {},
   "outputs": [],
   "source": [
    "financial_df = (df['budget'] > 0) | (df['revenue'] > 0)"
   ]
  },
  {
   "cell_type": "code",
   "execution_count": 5,
   "id": "f220cbb3",
   "metadata": {},
   "outputs": [
    {
     "data": {
      "text/plain": [
       "False    1931\n",
       "True      637\n",
       "dtype: int64"
      ]
     },
     "execution_count": 5,
     "metadata": {},
     "output_type": "execute_result"
    }
   ],
   "source": [
    "financial_df.value_counts()"
   ]
  },
  {
   "cell_type": "code",
   "execution_count": 6,
   "id": "f5fa2c0e",
   "metadata": {},
   "outputs": [],
   "source": [
    "financial_info = df[financial_df].copy()"
   ]
  },
  {
   "cell_type": "markdown",
   "id": "c7f5e865",
   "metadata": {},
   "source": [
    "## How many movies are there in each of the certification categories (G/PG/PG-13/R)?"
   ]
  },
  {
   "cell_type": "code",
   "execution_count": 7,
   "id": "769a91db",
   "metadata": {},
   "outputs": [
    {
     "data": {
      "text/plain": [
       "R        232\n",
       "PG-13    131\n",
       "PG        35\n",
       "NR        17\n",
       "G         15\n",
       "Name: certification, dtype: int64"
      ]
     },
     "execution_count": 7,
     "metadata": {},
     "output_type": "execute_result"
    }
   ],
   "source": [
    "financial_info['certification'].value_counts()"
   ]
  },
  {
   "cell_type": "markdown",
   "id": "e2a630df",
   "metadata": {},
   "source": [
    "## What is the average revenue per certification category?"
   ]
  },
  {
   "cell_type": "code",
   "execution_count": 8,
   "id": "24681077",
   "metadata": {},
   "outputs": [
    {
     "data": {
      "text/plain": [
       "certification\n",
       "G        1.173648e+08\n",
       "NR       9.588674e+06\n",
       "PG       1.106405e+08\n",
       "PG-13    9.928786e+07\n",
       "R        3.242712e+07\n",
       "Name: revenue, dtype: float64"
      ]
     },
     "execution_count": 8,
     "metadata": {},
     "output_type": "execute_result"
    }
   ],
   "source": [
    "financial_info.groupby('certification')['revenue'].mean()"
   ]
  },
  {
   "cell_type": "markdown",
   "id": "1fdbef00",
   "metadata": {},
   "source": [
    "## What is the average budget per certification category?"
   ]
  },
  {
   "cell_type": "code",
   "execution_count": 9,
   "id": "e26a7b01",
   "metadata": {},
   "outputs": [
    {
     "data": {
      "text/plain": [
       "certification\n",
       "G        3.813333e+07\n",
       "NR       6.302358e+06\n",
       "PG       4.482849e+07\n",
       "PG-13    4.299357e+07\n",
       "R        1.948407e+07\n",
       "Name: budget, dtype: float64"
      ]
     },
     "execution_count": 9,
     "metadata": {},
     "output_type": "execute_result"
    }
   ],
   "source": [
    "financial_info.groupby('certification')['budget'].mean()"
   ]
  },
  {
   "cell_type": "code",
   "execution_count": 10,
   "id": "7dd37445",
   "metadata": {},
   "outputs": [],
   "source": [
    "financial_df.to_csv(f\"tmdb_results_combined.csv.gz\", compression=\"gzip\", index=False)"
   ]
  }
 ],
 "metadata": {
  "kernelspec": {
   "display_name": "Python (dojo-env)",
   "language": "python",
   "name": "dojo-env"
  },
  "language_info": {
   "codemirror_mode": {
    "name": "ipython",
    "version": 3
   },
   "file_extension": ".py",
   "mimetype": "text/x-python",
   "name": "python",
   "nbconvert_exporter": "python",
   "pygments_lexer": "ipython3",
   "version": "3.9.15"
  },
  "toc": {
   "base_numbering": 1,
   "nav_menu": {},
   "number_sections": true,
   "sideBar": true,
   "skip_h1_title": false,
   "title_cell": "Table of Contents",
   "title_sidebar": "Contents",
   "toc_cell": false,
   "toc_position": {},
   "toc_section_display": true,
   "toc_window_display": false
  }
 },
 "nbformat": 4,
 "nbformat_minor": 5
}
